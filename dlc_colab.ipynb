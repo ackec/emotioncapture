{
 "cells": [
  {
   "cell_type": "markdown",
   "metadata": {},
   "source": [
    "Mouse Project Test"
   ]
  },
  {
   "cell_type": "code",
   "execution_count": 3,
   "metadata": {},
   "outputs": [
    {
     "name": "stdout",
     "output_type": "stream",
     "text": [
      "Loading DLC 2.3.5...\n"
     ]
    }
   ],
   "source": [
    "import deeplabcut"
   ]
  },
  {
   "cell_type": "code",
   "execution_count": 1,
   "metadata": {},
   "outputs": [],
   "source": [
    "#video_folder = r\"C:\\Mouse\\emotioncapture\\MP4\"\n",
    "#path_config_file = deeplabcut.create_new_project(\"Mouse\",\"Johan\",[video_folder],videotype='mp4',copy_videos=True)  #If create new project\n",
    "path_config_file = r\"C:\\Mouse\\emotioncapture\\Mouse-Johan-2023-09-22/config.yaml\" \n",
    "\n"
   ]
  },
  {
   "cell_type": "markdown",
   "metadata": {},
   "source": [
    "Extract and Label Frames"
   ]
  },
  {
   "cell_type": "code",
   "execution_count": null,
   "metadata": {},
   "outputs": [],
   "source": [
    "deeplabcut.DownSampleVideo()"
   ]
  },
  {
   "cell_type": "code",
   "execution_count": null,
   "metadata": {},
   "outputs": [],
   "source": [
    "deeplabcut.extract_frames(path_config_file,'automatic','kmeans',crop=True,userfeedback=False)"
   ]
  },
  {
   "cell_type": "markdown",
   "metadata": {},
   "source": [
    "Label Frames"
   ]
  },
  {
   "cell_type": "code",
   "execution_count": null,
   "metadata": {},
   "outputs": [],
   "source": [
    "deeplabcut.label_frames(\"Mouse-Johan-2023-09-22/config.yaml\")"
   ]
  },
  {
   "cell_type": "code",
   "execution_count": null,
   "metadata": {},
   "outputs": [],
   "source": [
    "deeplabcut.analyze_videos(path_config_file, ['G2F1-baseline.mp4'],videotype='mp4',save_as_csv=True)"
   ]
  },
  {
   "cell_type": "code",
   "execution_count": null,
   "metadata": {},
   "outputs": [],
   "source": [
    "deeplabcut.create_labeled_video(path_config_file,video_folder)"
   ]
  },
  {
   "cell_type": "markdown",
   "metadata": {},
   "source": [
    "Test downsample"
   ]
  },
  {
   "cell_type": "code",
   "execution_count": null,
   "metadata": {},
   "outputs": [],
   "source": [
    "video_path = \"C:\\Mouse\\Mouse-Johan-2023-09-22\\videos\\018757-2023-06-08 08-53-33.mp4\"\n",
    "deeplabcut.DownSampleVideo(video_path)"
   ]
  },
  {
   "cell_type": "code",
   "execution_count": 4,
   "metadata": {},
   "outputs": [
    {
     "ename": "UnboundLocalError",
     "evalue": "local variable 'cfg' referenced before assignment",
     "output_type": "error",
     "traceback": [
      "\u001b[1;31m---------------------------------------------------------------------------\u001b[0m",
      "\u001b[1;31mUnboundLocalError\u001b[0m                         Traceback (most recent call last)",
      "\u001b[1;32mc:\\Mouse\\emotioncapture\\dlc_colab.ipynb Cell 13\u001b[0m line \u001b[0;36m1\n\u001b[1;32m----> <a href='vscode-notebook-cell:/c%3A/Mouse/emotioncapture/dlc_colab.ipynb#X15sZmlsZQ%3D%3D?line=0'>1</a>\u001b[0m deeplabcut\u001b[39m.\u001b[39;49mexport_model(path_config_file)\n",
      "File \u001b[1;32mc:\\Users\\Johan2\\miniconda3\\envs\\DEEPLABCUT\\lib\\site-packages\\deeplabcut\\pose_estimation_tensorflow\\export.py:302\u001b[0m, in \u001b[0;36mexport_model\u001b[1;34m(cfg_path, shuffle, trainingsetindex, snapshotindex, iteration, TFGPUinference, overwrite, make_tar, wipepaths, modelprefix)\u001b[0m\n\u001b[0;32m    299\u001b[0m \u001b[39mexcept\u001b[39;00m \u001b[39mFileNotFoundError\u001b[39;00m:\n\u001b[0;32m    300\u001b[0m     \u001b[39mFileNotFoundError\u001b[39;00m(\u001b[39m\"\u001b[39m\u001b[39mThe config.yaml file at \u001b[39m\u001b[39m%s\u001b[39;00m\u001b[39m does not exist.\u001b[39m\u001b[39m\"\u001b[39m \u001b[39m%\u001b[39m cfg_path)\n\u001b[1;32m--> 302\u001b[0m cfg[\u001b[39m\"\u001b[39m\u001b[39mproject_path\u001b[39m\u001b[39m\"\u001b[39m] \u001b[39m=\u001b[39m os\u001b[39m.\u001b[39mpath\u001b[39m.\u001b[39mdirname(os\u001b[39m.\u001b[39mpath\u001b[39m.\u001b[39mrealpath(cfg_path))\n\u001b[0;32m    303\u001b[0m cfg[\u001b[39m\"\u001b[39m\u001b[39miteration\u001b[39m\u001b[39m\"\u001b[39m] \u001b[39m=\u001b[39m iteration \u001b[39mif\u001b[39;00m iteration \u001b[39mis\u001b[39;00m \u001b[39mnot\u001b[39;00m \u001b[39mNone\u001b[39;00m \u001b[39melse\u001b[39;00m cfg[\u001b[39m\"\u001b[39m\u001b[39miteration\u001b[39m\u001b[39m\"\u001b[39m]\n\u001b[0;32m    304\u001b[0m cfg[\u001b[39m\"\u001b[39m\u001b[39mbatch_size\u001b[39m\u001b[39m\"\u001b[39m] \u001b[39m=\u001b[39m cfg[\u001b[39m\"\u001b[39m\u001b[39mbatch_size\u001b[39m\u001b[39m\"\u001b[39m] \u001b[39mif\u001b[39;00m cfg[\u001b[39m\"\u001b[39m\u001b[39mbatch_size\u001b[39m\u001b[39m\"\u001b[39m] \u001b[39m>\u001b[39m \u001b[39m1\u001b[39m \u001b[39melse\u001b[39;00m \u001b[39m2\u001b[39m\n",
      "\u001b[1;31mUnboundLocalError\u001b[0m: local variable 'cfg' referenced before assignment"
     ]
    }
   ],
   "source": [
    "deeplabcut.export_model(path_config_file)"
   ]
  }
 ],
 "metadata": {
  "kernelspec": {
   "display_name": "deeplabcut",
   "language": "python",
   "name": "python3"
  },
  "language_info": {
   "codemirror_mode": {
    "name": "ipython",
    "version": 3
   },
   "file_extension": ".py",
   "mimetype": "text/x-python",
   "name": "python",
   "nbconvert_exporter": "python",
   "pygments_lexer": "ipython3",
   "version": "3.8.17"
  },
  "orig_nbformat": 4
 },
 "nbformat": 4,
 "nbformat_minor": 2
}
